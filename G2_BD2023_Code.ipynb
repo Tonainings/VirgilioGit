{
  "cells": [
    {
      "cell_type": "markdown",
      "metadata": {
        "id": "view-in-github",
        "colab_type": "text"
      },
      "source": [
        "<a href=\"https://colab.research.google.com/github/Tonainings/VirgilioGit/blob/main/G2_BD2023_Code.ipynb\" target=\"_parent\"><img src=\"https://colab.research.google.com/assets/colab-badge.svg\" alt=\"Open In Colab\"/></a>"
      ]
    },
    {
      "cell_type": "markdown",
      "source": [
        "**Cost Computation**"
      ],
      "metadata": {
        "id": "f59ZCJHBVOpn"
      }
    },
    {
      "cell_type": "code",
      "source": [
        "import numpy as np\n",
        "def sig(x):\n",
        " return 1/(1 + np.exp(-x))\n",
        "\n",
        "def compute_multiple_cost(X, y, W, b):\n",
        "\n",
        "  m = X.shape[0]\n",
        "  cost = 0\n",
        "\n",
        "  for i in range(m):\n",
        "    z_i = np.dot(X[i],W) + b\n",
        "    f_xi = sig(z_i)\n",
        "    cost += -y[i]*np.log(f_xi) - (1-y[i])*np.log(1-f_xi)\n",
        "  total_cost = (1/(2*m))*cost\n",
        "  return total_cost"
      ],
      "metadata": {
        "id": "M0uCaQHEVMEO"
      },
      "execution_count": null,
      "outputs": []
    },
    {
      "cell_type": "markdown",
      "metadata": {
        "id": "CrEb2_hjoNME"
      },
      "source": [
        "**Gradient Computation**"
      ]
    },
    {
      "cell_type": "code",
      "execution_count": null,
      "metadata": {
        "id": "pIfw3TkzgMHn"
      },
      "outputs": [],
      "source": [
        "def compute_multiple_gradient(X, y, W, b):\n",
        "\n",
        "  m = X.shape[0] # Number of training samples\n",
        "  n = X.shape[1] # Number of feature classes\n",
        "\n",
        "  dj_dW = np.zeros(n)\n",
        "  dj_db = 0\n",
        "\n",
        "  for i in range(m): # For each sample\n",
        "    z_i = np.dot(X[i],W) + b\n",
        "    f_xi = sig(z_i) # Prediction\n",
        "    err_i = f_xi - y[i] # Prediction - Ground truth\n",
        "    for j in range(n): # For each feature\n",
        "      x_ji = X[i,j]\n",
        "      dj_dW[j] = dj_dW[j] + (1/m)*x_ji*err_i\n",
        "    dj_db = dj_db + (1/m)*err_i\n",
        "  return dj_dW, dj_db"
      ]
    },
    {
      "cell_type": "markdown",
      "metadata": {
        "id": "GVeP4L77oric"
      },
      "source": [
        "**Multiple Gradient Descent**"
      ]
    },
    {
      "cell_type": "code",
      "execution_count": null,
      "metadata": {
        "id": "1-R7BEecgUSj"
      },
      "outputs": [],
      "source": [
        "def multiple_gradient_descent(X, y,  W_in, b_in, alpha,  num_iters,  cost_function, gradient_function):\n",
        "\n",
        "  W = W_in\n",
        "  b = b_in\n",
        "\n",
        "  for itt in range(num_iters):\n",
        "    dj_dw, dj_db = compute_multiple_gradient(X, y, W, b)\n",
        "    W = W - alpha*dj_dw\n",
        "    b = b - alpha*dj_db\n",
        "    cost = compute_multiple_cost(X, y, W, b)\n",
        "\n",
        "    if itt % 100 == 0:\n",
        "      print('Iteration {}: (w,b) = ({}, {}), cost = {}'.format(itt, W, b, cost))\n",
        "\n",
        "  return W, b, cost"
      ]
    },
    {
      "cell_type": "markdown",
      "metadata": {
        "id": "abbUYVDLoyAD"
      },
      "source": [
        "**Mount Google Drive**"
      ]
    },
    {
      "cell_type": "code",
      "execution_count": null,
      "metadata": {
        "id": "5fcvH2s8ggO3",
        "colab": {
          "base_uri": "https://localhost:8080/"
        },
        "outputId": "cf53d77f-dfe9-4233-8feb-659e452f1b59"
      },
      "outputs": [
        {
          "output_type": "stream",
          "name": "stdout",
          "text": [
            "Drive already mounted at /content/drive; to attempt to forcibly remount, call drive.mount(\"/content/drive\", force_remount=True).\n"
          ]
        }
      ],
      "source": [
        "from google.colab import drive\n",
        "drive.mount('/content/drive')"
      ]
    },
    {
      "cell_type": "markdown",
      "metadata": {
        "id": "Fj22RGYao1j2"
      },
      "source": [
        "**Read the dataset and find the weights**"
      ]
    },
    {
      "cell_type": "code",
      "execution_count": null,
      "metadata": {
        "colab": {
          "base_uri": "https://localhost:8080/"
        },
        "id": "CBKyI0UjgWu_",
        "outputId": "52f5aaa5-54e2-49b1-ebde-dd66e2bca465"
      },
      "outputs": [
        {
          "output_type": "stream",
          "name": "stdout",
          "text": [
            "Iteration 0: (w,b) = ([4.97284775 4.96287803], 4.940856690697606), cost = 3.0577196449725013\n",
            "Iteration 100: (w,b) = ([2.38407515 1.40836173], -0.6869660198127252), cost = 0.4944636617403289\n",
            "Iteration 200: (w,b) = ([2.00036141 0.75758516], -1.8512423742498578), cost = 0.3020594243996198\n",
            "Iteration 300: (w,b) = ([2.14535436 0.80770655], -1.9914338132358276), cost = 0.29987677319939793\n",
            "Iteration 400: (w,b) = ([2.2918096  0.86541431], -2.111195344192932), cost = 0.2979207753962157\n",
            "Iteration 500: (w,b) = ([2.43215178 0.92061035], -2.2256468293672316), cost = 0.29612879941287473\n",
            "Iteration 600: (w,b) = ([2.56661534 0.97335492], -2.335321315702988), cost = 0.2944843546346313\n",
            "Iteration 700: (w,b) = ([2.69552601 1.02383319], -2.4405140742246094), cost = 0.2929728738555272\n",
            "Iteration 800: (w,b) = ([2.81918986 1.0722122 ], -2.541493376746508), cost = 0.2915814593346139\n",
            "Iteration 900: (w,b) = ([2.93789291 1.1186412 ], -2.6385058334567777), cost = 0.2902986701259451\n"
          ]
        },
        {
          "output_type": "execute_result",
          "data": {
            "text/plain": [
              "(array([3.05078469, 1.16281631]), -2.7308635711616778, 0.28912572456232694)"
            ]
          },
          "metadata": {},
          "execution_count": 10
        }
      ],
      "source": [
        "import pandas as pd\n",
        "\n",
        "df = pd.read_csv(\"/content/drive/MyDrive/Progetto/id_metadata.csv\")\n",
        "\n",
        "X = df[['danceability','energy']].values\n",
        "df['valence_binary'] = (df['valence'] >= 0.5).astype(int)\n",
        "Y = df['valence_binary'].values\n",
        "\n",
        "alpha = 0.1\n",
        "num_itt = 1000\n",
        "\n",
        "W = np.array([5,5])\n",
        "b = 5\n",
        "\n",
        "multiple_gradient_descent(X, Y, W, b, alpha, num_itt, compute_multiple_cost, compute_multiple_gradient)"
      ]
    },
    {
      "cell_type": "code",
      "execution_count": null,
      "metadata": {
        "id": "xOKKb3mHHoLv",
        "colab": {
          "base_uri": "https://localhost:8080/",
          "height": 1000
        },
        "outputId": "852761f3-4a7b-4069-c8f7-da5105995d74"
      },
      "outputs": [
        {
          "output_type": "stream",
          "name": "stdout",
          "text": [
            "the shape of the inputs x is: (49999, 2)\n",
            "the shape of the inputs y is: (49999,)\n",
            "\n",
            "the shape of the training set (input) is: (29999, 2)\n",
            "the shape of the training set (target) is: (29999,)\n",
            "\n",
            "the shape of the cross validation set (input) is: (10000, 2)\n",
            "the shape of the cross validation set (target) is: (10000,)\n",
            "\n",
            "the shape of the test set (input) is: (10000, 2)\n",
            "the shape of the test set (target) is: (10000,)\n",
            "\n",
            "Number of 1s in the test set: 4084\n",
            "Number of 0s in the test set: 5916\n",
            "best parameters are: {'C': 1, 'penalty': 'l2'}\n",
            "\n",
            "Accuracy of the model: 72.23%\n"
          ]
        },
        {
          "output_type": "display_data",
          "data": {
            "text/plain": [
              "<Figure size 640x480 with 2 Axes>"
            ],
            "image/png": "[encoded data removed]"
          },
          "metadata": {}
        },
        {
          "output_type": "display_data",
          "data": {
            "text/plain": [
              "<Figure size 640x480 with 1 Axes>"
            ],
            "image/png": "[encoded data removed]"
          },
          "metadata": {}
        },
        {
          "output_type": "stream",
          "name": "stdout",
          "text": [
            "Computed mean of the training set: 0.28\n",
            "Computed standard deviation of the training set: 0.53\n"
          ]
        }
      ],
      "source": [
        "import matplotlib.pyplot as plt\n",
        "from sklearn.linear_model import LogisticRegression\n",
        "from sklearn.preprocessing import StandardScaler, PolynomialFeatures\n",
        "from sklearn.model_selection import train_test_split, GridSearchCV\n",
        "from sklearn.metrics import accuracy_score\n",
        "from sklearn.metrics import roc_curve\n",
        "from sklearn.metrics import confusion_matrix, ConfusionMatrixDisplay\n",
        "from sklearn.metrics import mean_squared_error, r2_score\n",
        "\n",
        "import tensorflow as tf\n",
        "\n",
        "# Loading the data\n",
        "df = pd.read_csv(\"/content/drive/MyDrive/Progetto/id_metadata.csv\")\n",
        "X = df[['danceability', 'energy']].values\n",
        "df['valence_binary'] = (df['valence'] >= 0.5).astype(int)\n",
        "y = df['valence_binary'].values\n",
        "\n",
        "print(f\"the shape of the inputs x is: {X.shape}\")\n",
        "print(f\"the shape of the inputs y is: {y.shape}\\n\")\n",
        "\n",
        "# Splitting the data into training and testing sets\n",
        "X_train, X_, y_train, y_ = train_test_split(X, y, test_size=0.4, random_state=1)\n",
        "X_cv, X_test, y_cv, y_test = train_test_split(X_, y_, test_size=0.5, random_state=1)\n",
        "del X_, y_\n",
        "\n",
        "print(f\"the shape of the training set (input) is: {X_train.shape}\")\n",
        "print(f\"the shape of the training set (target) is: {y_train.shape}\\n\")\n",
        "print(f\"the shape of the cross validation set (input) is: {X_cv.shape}\")\n",
        "print(f\"the shape of the cross validation set (target) is: {y_cv.shape}\\n\")\n",
        "print(f\"the shape of the test set (input) is: {X_test.shape}\")\n",
        "print(f\"the shape of the test set (target) is: {y_test.shape}\\n\")\n",
        "\n",
        "# Counting the number of 1s and 0s in the test set\n",
        "num_ones = sum(y_test == 1)\n",
        "num_zeros = sum(y_test == 0)\n",
        "\n",
        "print(\"Number of 1s in the test set:\", num_ones)\n",
        "print(\"Number of 0s in the test set:\", num_zeros)\n",
        "\n",
        "# Define the hyperparameters and their possible values to search\n",
        "parameters = {'C': [0.1, 1, 10], 'penalty': ['l2']}\n",
        "\n",
        "# Create an instance of the logistic regression model\n",
        "logistic_model = LogisticRegression(solver='lbfgs')\n",
        "\n",
        "# Create an instance of the GridSearchCV class and fit it on the cross-validation data\n",
        "grid_search = GridSearchCV(logistic_model, parameters, cv=5)\n",
        "grid_search.fit(X_cv, y_cv)\n",
        "\n",
        "# Retrieve the best hyperparameters and retrain the model\n",
        "best_params = grid_search.best_params_\n",
        "logistic_model = LogisticRegression(**best_params, solver='lbfgs')\n",
        "logistic_model.fit(X_train, y_train)\n",
        "\n",
        "print(f\"best parameters are: {best_params}\\n\")\n",
        "\n",
        "# Predict the results on the test set\n",
        "y_pred = logistic_model.predict(X_test)\n",
        "\n",
        "# Calculating the accuracy of the model\n",
        "accuracy = accuracy_score(y_test, y_pred)\n",
        "\n",
        "print(\"Accuracy of the model: {:.2f}%\".format(accuracy*100))\n",
        "\n",
        "# Calculating the confusion matrix\n",
        "cm = confusion_matrix(y_test, y_pred)\n",
        "\n",
        "# Displaying the confusion matrix\n",
        "cmd = ConfusionMatrixDisplay(cm, display_labels=logistic_model.classes_)\n",
        "cmd.plot()\n",
        "plt.title(\"Confusion Matrix\")\n",
        "plt.show()\n",
        "\n",
        "# Plotting the ROC curve\n",
        "y_prob = logistic_model.predict_proba(X_test)[:, 1]\n",
        "fpr, tpr, _ = roc_curve(y_test, y_prob)\n",
        "plt.plot(fpr, tpr)\n",
        "plt.xlabel(\"False Positive Rate\")\n",
        "plt.ylabel(\"True Positive Rate\")\n",
        "plt.title(\"ROC curve\")\n",
        "plt.show()\n",
        "\n",
        "# Evaluate the performance of the model\n",
        "mse = mean_squared_error(y_test, y_pred)\n",
        "std_dev = np.std(y_test - y_pred)\n",
        "\n",
        "print(\"Computed mean of the training set: {:.2f}\".format(mse))\n",
        "print(\"Computed standard deviation of the training set: {:.2f}\".format(std_dev))"
      ]
    }
  ],
  "metadata": {
    "colab": {
      "provenance": [],
      "include_colab_link": true
    },
    "kernelspec": {
      "display_name": "Python 3",
      "name": "python3"
    },
    "language_info": {
      "name": "python"
    }
  },
  "nbformat": 4,
  "nbformat_minor": 0
}